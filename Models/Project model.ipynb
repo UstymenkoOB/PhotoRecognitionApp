{
 "cells": [
  {
   "cell_type": "code",
   "execution_count": 1,
   "id": "439ad8c1-1f7d-40cf-afb6-dade473ce6e1",
   "metadata": {},
   "outputs": [],
   "source": [
    "import tensorflow as tf\n",
    "from tensorflow.keras import layers, models, optimizers\n",
    "from tensorflow.keras.datasets import cifar10\n",
    "from tensorflow.keras.utils import to_categorical"
   ]
  },
  {
   "cell_type": "code",
   "execution_count": 2,
   "id": "9abfaab7-6626-4b84-a52e-1b776f21c0a9",
   "metadata": {},
   "outputs": [],
   "source": [
    "(x_train, y_train), (x_test, y_test) = cifar10.load_data()\n",
    "x_train = x_train.astype('float32') / 255.0\n",
    "x_test = x_test.astype('float32') / 255.0\n",
    "y_train = to_categorical(y_train, 10)\n",
    "y_test = to_categorical(y_test, 10)"
   ]
  },
  {
   "cell_type": "code",
   "execution_count": 3,
   "id": "5a6459a5-bd49-4d99-90fd-77f7d96dc398",
   "metadata": {},
   "outputs": [
    {
     "name": "stderr",
     "output_type": "stream",
     "text": [
      "C:\\Users\\Aliaksey\\AppData\\Local\\Programs\\Python\\Python311\\Lib\\site-packages\\keras\\src\\layers\\convolutional\\base_conv.py:99: UserWarning: Do not pass an `input_shape`/`input_dim` argument to a layer. When using Sequential models, prefer using an `Input(shape)` object as the first layer in the model instead.\n",
      "  super().__init__(\n"
     ]
    }
   ],
   "source": [
    "# Створення архітектури моделі\n",
    "model = models.Sequential()\n",
    "model.add(layers.Conv2D(32, (3, 3), activation='relu', input_shape=(32, 32, 3)))\n",
    "model.add(layers.MaxPooling2D((2, 2)))\n",
    "model.add(layers.Conv2D(64, (3, 3), activation='relu'))\n",
    "model.add(layers.MaxPooling2D((2, 2)))\n",
    "model.add(layers.Conv2D(128, (3, 3), activation='relu'))\n",
    "model.add(layers.Flatten())\n",
    "model.add(layers.Dense(128, activation='relu'))\n",
    "model.add(layers.Dense(10, activation='softmax'))"
   ]
  },
  {
   "cell_type": "code",
   "execution_count": 4,
   "id": "972aacba-eaad-4ae8-951d-0121df18d68b",
   "metadata": {},
   "outputs": [],
   "source": [
    "# Компіляція моделі\n",
    "model.compile(optimizer='adam',\n",
    "              loss='categorical_crossentropy',\n",
    "              metrics=['accuracy'])"
   ]
  },
  {
   "cell_type": "code",
   "execution_count": 5,
   "id": "aeca9480-2c2e-48f4-9c07-a1a7c79dce72",
   "metadata": {},
   "outputs": [
    {
     "name": "stdout",
     "output_type": "stream",
     "text": [
      "Epoch 1/30\n",
      "\u001b[1m391/391\u001b[0m \u001b[32m━━━━━━━━━━━━━━━━━━━━\u001b[0m\u001b[37m\u001b[0m \u001b[1m32s\u001b[0m 71ms/step - accuracy: 0.3252 - loss: 1.8280 - val_accuracy: 0.5329 - val_loss: 1.2984\n",
      "Epoch 2/30\n",
      "\u001b[1m391/391\u001b[0m \u001b[32m━━━━━━━━━━━━━━━━━━━━\u001b[0m\u001b[37m\u001b[0m \u001b[1m25s\u001b[0m 63ms/step - accuracy: 0.5471 - loss: 1.2692 - val_accuracy: 0.5911 - val_loss: 1.1447\n",
      "Epoch 3/30\n",
      "\u001b[1m391/391\u001b[0m \u001b[32m━━━━━━━━━━━━━━━━━━━━\u001b[0m\u001b[37m\u001b[0m \u001b[1m27s\u001b[0m 69ms/step - accuracy: 0.6176 - loss: 1.0870 - val_accuracy: 0.6408 - val_loss: 1.0163\n",
      "Epoch 4/30\n",
      "\u001b[1m391/391\u001b[0m \u001b[32m━━━━━━━━━━━━━━━━━━━━\u001b[0m\u001b[37m\u001b[0m \u001b[1m26s\u001b[0m 65ms/step - accuracy: 0.6632 - loss: 0.9683 - val_accuracy: 0.6494 - val_loss: 0.9999\n",
      "Epoch 5/30\n",
      "\u001b[1m391/391\u001b[0m \u001b[32m━━━━━━━━━━━━━━━━━━━━\u001b[0m\u001b[37m\u001b[0m \u001b[1m25s\u001b[0m 63ms/step - accuracy: 0.6909 - loss: 0.8786 - val_accuracy: 0.6880 - val_loss: 0.9022\n",
      "Epoch 6/30\n",
      "\u001b[1m391/391\u001b[0m \u001b[32m━━━━━━━━━━━━━━━━━━━━\u001b[0m\u001b[37m\u001b[0m \u001b[1m25s\u001b[0m 64ms/step - accuracy: 0.7228 - loss: 0.7946 - val_accuracy: 0.7085 - val_loss: 0.8469\n",
      "Epoch 7/30\n",
      "\u001b[1m391/391\u001b[0m \u001b[32m━━━━━━━━━━━━━━━━━━━━\u001b[0m\u001b[37m\u001b[0m \u001b[1m24s\u001b[0m 62ms/step - accuracy: 0.7445 - loss: 0.7297 - val_accuracy: 0.7163 - val_loss: 0.8360\n",
      "Epoch 8/30\n",
      "\u001b[1m391/391\u001b[0m \u001b[32m━━━━━━━━━━━━━━━━━━━━\u001b[0m\u001b[37m\u001b[0m \u001b[1m27s\u001b[0m 69ms/step - accuracy: 0.7638 - loss: 0.6805 - val_accuracy: 0.7195 - val_loss: 0.8253\n",
      "Epoch 9/30\n",
      "\u001b[1m391/391\u001b[0m \u001b[32m━━━━━━━━━━━━━━━━━━━━\u001b[0m\u001b[37m\u001b[0m \u001b[1m28s\u001b[0m 72ms/step - accuracy: 0.7844 - loss: 0.6197 - val_accuracy: 0.7055 - val_loss: 0.8774\n",
      "Epoch 10/30\n",
      "\u001b[1m391/391\u001b[0m \u001b[32m━━━━━━━━━━━━━━━━━━━━\u001b[0m\u001b[37m\u001b[0m \u001b[1m28s\u001b[0m 72ms/step - accuracy: 0.7955 - loss: 0.5848 - val_accuracy: 0.7126 - val_loss: 0.8770\n",
      "Epoch 11/30\n",
      "\u001b[1m391/391\u001b[0m \u001b[32m━━━━━━━━━━━━━━━━━━━━\u001b[0m\u001b[37m\u001b[0m \u001b[1m28s\u001b[0m 72ms/step - accuracy: 0.8132 - loss: 0.5359 - val_accuracy: 0.7204 - val_loss: 0.8553\n",
      "Epoch 12/30\n",
      "\u001b[1m391/391\u001b[0m \u001b[32m━━━━━━━━━━━━━━━━━━━━\u001b[0m\u001b[37m\u001b[0m \u001b[1m28s\u001b[0m 70ms/step - accuracy: 0.8300 - loss: 0.4887 - val_accuracy: 0.7247 - val_loss: 0.8545\n",
      "Epoch 13/30\n",
      "\u001b[1m391/391\u001b[0m \u001b[32m━━━━━━━━━━━━━━━━━━━━\u001b[0m\u001b[37m\u001b[0m \u001b[1m28s\u001b[0m 72ms/step - accuracy: 0.8467 - loss: 0.4438 - val_accuracy: 0.7088 - val_loss: 0.9018\n",
      "Epoch 14/30\n",
      "\u001b[1m391/391\u001b[0m \u001b[32m━━━━━━━━━━━━━━━━━━━━\u001b[0m\u001b[37m\u001b[0m \u001b[1m51s\u001b[0m 130ms/step - accuracy: 0.8610 - loss: 0.4024 - val_accuracy: 0.7281 - val_loss: 0.8991\n",
      "Epoch 15/30\n",
      "\u001b[1m391/391\u001b[0m \u001b[32m━━━━━━━━━━━━━━━━━━━━\u001b[0m\u001b[37m\u001b[0m \u001b[1m30s\u001b[0m 76ms/step - accuracy: 0.8789 - loss: 0.3510 - val_accuracy: 0.7238 - val_loss: 0.9488\n",
      "Epoch 16/30\n",
      "\u001b[1m391/391\u001b[0m \u001b[32m━━━━━━━━━━━━━━━━━━━━\u001b[0m\u001b[37m\u001b[0m \u001b[1m30s\u001b[0m 77ms/step - accuracy: 0.8883 - loss: 0.3221 - val_accuracy: 0.7288 - val_loss: 0.9989\n",
      "Epoch 17/30\n",
      "\u001b[1m391/391\u001b[0m \u001b[32m━━━━━━━━━━━━━━━━━━━━\u001b[0m\u001b[37m\u001b[0m \u001b[1m30s\u001b[0m 76ms/step - accuracy: 0.8988 - loss: 0.2906 - val_accuracy: 0.7196 - val_loss: 1.0220\n",
      "Epoch 18/30\n",
      "\u001b[1m391/391\u001b[0m \u001b[32m━━━━━━━━━━━━━━━━━━━━\u001b[0m\u001b[37m\u001b[0m \u001b[1m29s\u001b[0m 74ms/step - accuracy: 0.9098 - loss: 0.2608 - val_accuracy: 0.7178 - val_loss: 1.0740\n",
      "Epoch 19/30\n",
      "\u001b[1m391/391\u001b[0m \u001b[32m━━━━━━━━━━━━━━━━━━━━\u001b[0m\u001b[37m\u001b[0m \u001b[1m29s\u001b[0m 74ms/step - accuracy: 0.9211 - loss: 0.2292 - val_accuracy: 0.7141 - val_loss: 1.1404\n",
      "Epoch 20/30\n",
      "\u001b[1m391/391\u001b[0m \u001b[32m━━━━━━━━━━━━━━━━━━━━\u001b[0m\u001b[37m\u001b[0m \u001b[1m29s\u001b[0m 73ms/step - accuracy: 0.9368 - loss: 0.1848 - val_accuracy: 0.7234 - val_loss: 1.2003\n",
      "Epoch 21/30\n",
      "\u001b[1m391/391\u001b[0m \u001b[32m━━━━━━━━━━━━━━━━━━━━\u001b[0m\u001b[37m\u001b[0m \u001b[1m29s\u001b[0m 74ms/step - accuracy: 0.9418 - loss: 0.1681 - val_accuracy: 0.7083 - val_loss: 1.2776\n",
      "Epoch 22/30\n",
      "\u001b[1m391/391\u001b[0m \u001b[32m━━━━━━━━━━━━━━━━━━━━\u001b[0m\u001b[37m\u001b[0m \u001b[1m28s\u001b[0m 72ms/step - accuracy: 0.9530 - loss: 0.1446 - val_accuracy: 0.7132 - val_loss: 1.3714\n",
      "Epoch 23/30\n",
      "\u001b[1m391/391\u001b[0m \u001b[32m━━━━━━━━━━━━━━━━━━━━\u001b[0m\u001b[37m\u001b[0m \u001b[1m28s\u001b[0m 72ms/step - accuracy: 0.9590 - loss: 0.1241 - val_accuracy: 0.7034 - val_loss: 1.4667\n",
      "Epoch 24/30\n",
      "\u001b[1m391/391\u001b[0m \u001b[32m━━━━━━━━━━━━━━━━━━━━\u001b[0m\u001b[37m\u001b[0m \u001b[1m29s\u001b[0m 75ms/step - accuracy: 0.9581 - loss: 0.1279 - val_accuracy: 0.7120 - val_loss: 1.5142\n",
      "Epoch 25/30\n",
      "\u001b[1m391/391\u001b[0m \u001b[32m━━━━━━━━━━━━━━━━━━━━\u001b[0m\u001b[37m\u001b[0m \u001b[1m29s\u001b[0m 75ms/step - accuracy: 0.9623 - loss: 0.1097 - val_accuracy: 0.7028 - val_loss: 1.6411\n",
      "Epoch 26/30\n",
      "\u001b[1m391/391\u001b[0m \u001b[32m━━━━━━━━━━━━━━━━━━━━\u001b[0m\u001b[37m\u001b[0m \u001b[1m29s\u001b[0m 73ms/step - accuracy: 0.9634 - loss: 0.1048 - val_accuracy: 0.7107 - val_loss: 1.6742\n",
      "Epoch 27/30\n",
      "\u001b[1m391/391\u001b[0m \u001b[32m━━━━━━━━━━━━━━━━━━━━\u001b[0m\u001b[37m\u001b[0m \u001b[1m29s\u001b[0m 75ms/step - accuracy: 0.9648 - loss: 0.1007 - val_accuracy: 0.6989 - val_loss: 1.7995\n",
      "Epoch 28/30\n",
      "\u001b[1m391/391\u001b[0m \u001b[32m━━━━━━━━━━━━━━━━━━━━\u001b[0m\u001b[37m\u001b[0m \u001b[1m27s\u001b[0m 69ms/step - accuracy: 0.9726 - loss: 0.0837 - val_accuracy: 0.7112 - val_loss: 1.8451\n",
      "Epoch 29/30\n",
      "\u001b[1m391/391\u001b[0m \u001b[32m━━━━━━━━━━━━━━━━━━━━\u001b[0m\u001b[37m\u001b[0m \u001b[1m28s\u001b[0m 71ms/step - accuracy: 0.9764 - loss: 0.0689 - val_accuracy: 0.7110 - val_loss: 1.8162\n",
      "Epoch 30/30\n",
      "\u001b[1m391/391\u001b[0m \u001b[32m━━━━━━━━━━━━━━━━━━━━\u001b[0m\u001b[37m\u001b[0m \u001b[1m29s\u001b[0m 75ms/step - accuracy: 0.9667 - loss: 0.0921 - val_accuracy: 0.7026 - val_loss: 1.9299\n"
     ]
    }
   ],
   "source": [
    "# Навчання моделі\n",
    "history = model.fit(x_train, y_train, epochs=30, batch_size=128, validation_data=(x_test, y_test))"
   ]
  },
  {
   "cell_type": "code",
   "execution_count": 10,
   "id": "97412711-791f-40fd-884a-4345f307041d",
   "metadata": {},
   "outputs": [
    {
     "name": "stdout",
     "output_type": "stream",
     "text": [
      "\u001b[1m313/313\u001b[0m \u001b[32m━━━━━━━━━━━━━━━━━━━━\u001b[0m\u001b[37m\u001b[0m \u001b[1m4s\u001b[0m 14ms/step - accuracy: 0.7021 - loss: 1.9203\n",
      "Test accuracy: 0.7026000022888184\n"
     ]
    }
   ],
   "source": [
    "test_loss, test_accuracy = model.evaluate(x_test, y_test)\n",
    "print('Test accuracy:', test_accuracy)"
   ]
  },
  {
   "cell_type": "code",
   "execution_count": null,
   "id": "3ac13c9a-acad-4de4-b6c4-eecf6bc65f3b",
   "metadata": {},
   "outputs": [],
   "source": []
  }
 ],
 "metadata": {
  "kernelspec": {
   "display_name": "Python 3 (ipykernel)",
   "language": "python",
   "name": "python3"
  },
  "language_info": {
   "codemirror_mode": {
    "name": "ipython",
    "version": 3
   },
   "file_extension": ".py",
   "mimetype": "text/x-python",
   "name": "python",
   "nbconvert_exporter": "python",
   "pygments_lexer": "ipython3",
   "version": "3.11.2"
  }
 },
 "nbformat": 4,
 "nbformat_minor": 5
}
