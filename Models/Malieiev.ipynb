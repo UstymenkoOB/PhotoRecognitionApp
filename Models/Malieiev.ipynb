{
  "nbformat": 4,
  "nbformat_minor": 0,
  "metadata": {
    "colab": {
      "provenance": []
    },
    "kernelspec": {
      "name": "python3",
      "display_name": "Python 3"
    },
    "language_info": {
      "name": "python"
    }
  },
  "cells": [
    {
      "cell_type": "code",
      "execution_count": 2,
      "metadata": {
        "id": "-3CsXLCve-xi",
        "colab": {
          "base_uri": "https://localhost:8080/"
        },
        "outputId": "63058d23-bc8d-419d-d004-f28c7a9ddcb3"
      },
      "outputs": [
        {
          "output_type": "stream",
          "name": "stdout",
          "text": [
            "Downloading data from https://www.cs.toronto.edu/~kriz/cifar-10-python.tar.gz\n",
            "170498071/170498071 [==============================] - 11s 0us/step\n"
          ]
        }
      ],
      "source": [
        "import tensorflow as tf\n",
        "from keras import datasets, layers, models, optimizers\n",
        "from keras.utils import to_categorical\n",
        "\n",
        "# Завантаження даних CIFAR-10\n",
        "(x_train, y_train), (x_test, y_test) = datasets.cifar10.load_data()\n",
        "\n",
        "# Нормалізація даних (перетворення значень в діапазон від 0 до 1)\n",
        "x_train, x_test = x_train / 255.0, x_test / 255.0\n",
        "\n",
        "# Перетворення міток у формат one-hot\n",
        "y_train = to_categorical(y_train, num_classes=10)\n",
        "y_test = to_categorical(y_test, num_classes=10)\n"
      ]
    },
    {
      "cell_type": "code",
      "source": [
        "import numpy as np\n",
        "from keras.models import Sequential\n",
        "from keras.layers import Conv2D, MaxPooling2D, Flatten, Dense, Dropout, BatchNormalization, Activation\n",
        "from keras.optimizers import Adam\n",
        "\n",
        "# Встановлення seed для відтворюваності\n",
        "np.random.seed(42)\n",
        "tf.random.set_seed(42)\n",
        "\n",
        "# Функція для побудови моделі\n",
        "def build_model():\n",
        "    model = Sequential()\n",
        "    model.add(BatchNormalization(input_shape=x_train.shape[1:]))\n",
        "    model.add(Conv2D(64, (5, 5), padding=\"same\", activation=\"elu\"))\n",
        "    model.add(MaxPooling2D(pool_size=(2, 2), strides=(2, 2)))\n",
        "    model.add(Dropout(0.25))\n",
        "\n",
        "    model.add(BatchNormalization(input_shape=x_train.shape[1:]))\n",
        "    model.add(Conv2D(128, (5, 5), padding=\"same\", activation=\"elu\"))\n",
        "    model.add(MaxPooling2D(pool_size=(2, 2)))\n",
        "    model.add(Dropout(0.25))\n",
        "\n",
        "    model.add(BatchNormalization(input_shape=x_train.shape[1:]))\n",
        "    model.add(Conv2D(256, (5, 5), padding=\"same\", activation=\"elu\"))\n",
        "    model.add(MaxPooling2D(pool_size=(2, 2), strides=(2, 2)))\n",
        "    model.add(Dropout(0.25))\n",
        "\n",
        "    model.add(Flatten())\n",
        "    model.add(Dense(256))\n",
        "    model.add(Activation(\"elu\"))\n",
        "    model.add(Dropout(0.5))\n",
        "    model.add(Dense(10))\n",
        "    model.add(Activation(\"softmax\"))\n",
        "    return model\n",
        "\n",
        "# Побудова моделі\n",
        "model = build_model()\n",
        "\n",
        "# Компіляція моделі\n",
        "model.compile(optimizer=Adam(learning_rate=0.0001),\n",
        "              loss='categorical_crossentropy',\n",
        "              metrics=['accuracy'])\n",
        "\n",
        "# Виведення опису моделі\n",
        "model.summary()\n",
        "\n",
        "# Навчання моделі\n",
        "history = model.fit(x_train, y_train, epochs=50, validation_data=(x_test, y_test), batch_size=128)\n",
        "\n",
        "# Оцінка точності на тестовому наборі даних\n",
        "test_loss, test_acc = model.evaluate(x_test, y_test)\n",
        "print('Точність класифікації на тестовому наборі даних:', test_acc)\n"
      ],
      "metadata": {
        "colab": {
          "base_uri": "https://localhost:8080/"
        },
        "id": "HvaYNu8_f_X3",
        "outputId": "e8ef5831-9252-4817-d273-e73d87342a36"
      },
      "execution_count": null,
      "outputs": [
        {
          "output_type": "stream",
          "name": "stdout",
          "text": [
            "Model: \"sequential\"\n",
            "_________________________________________________________________\n",
            " Layer (type)                Output Shape              Param #   \n",
            "=================================================================\n",
            " batch_normalization (Batch  (None, 32, 32, 3)         12        \n",
            " Normalization)                                                  \n",
            "                                                                 \n",
            " conv2d (Conv2D)             (None, 32, 32, 64)        4864      \n",
            "                                                                 \n",
            " max_pooling2d (MaxPooling2  (None, 16, 16, 64)        0         \n",
            " D)                                                              \n",
            "                                                                 \n",
            " dropout (Dropout)           (None, 16, 16, 64)        0         \n",
            "                                                                 \n",
            " batch_normalization_1 (Bat  (None, 16, 16, 64)        256       \n",
            " chNormalization)                                                \n",
            "                                                                 \n",
            " conv2d_1 (Conv2D)           (None, 16, 16, 128)       204928    \n",
            "                                                                 \n",
            " max_pooling2d_1 (MaxPoolin  (None, 8, 8, 128)         0         \n",
            " g2D)                                                            \n",
            "                                                                 \n",
            " dropout_1 (Dropout)         (None, 8, 8, 128)         0         \n",
            "                                                                 \n",
            " batch_normalization_2 (Bat  (None, 8, 8, 128)         512       \n",
            " chNormalization)                                                \n",
            "                                                                 \n",
            " conv2d_2 (Conv2D)           (None, 8, 8, 256)         819456    \n",
            "                                                                 \n",
            " max_pooling2d_2 (MaxPoolin  (None, 4, 4, 256)         0         \n",
            " g2D)                                                            \n",
            "                                                                 \n",
            " dropout_2 (Dropout)         (None, 4, 4, 256)         0         \n",
            "                                                                 \n",
            " flatten (Flatten)           (None, 4096)              0         \n",
            "                                                                 \n",
            " dense (Dense)               (None, 256)               1048832   \n",
            "                                                                 \n",
            " activation (Activation)     (None, 256)               0         \n",
            "                                                                 \n",
            " dropout_3 (Dropout)         (None, 256)               0         \n",
            "                                                                 \n",
            " dense_1 (Dense)             (None, 10)                2570      \n",
            "                                                                 \n",
            " activation_1 (Activation)   (None, 10)                0         \n",
            "                                                                 \n",
            "=================================================================\n",
            "Total params: 2081430 (7.94 MB)\n",
            "Trainable params: 2081040 (7.94 MB)\n",
            "Non-trainable params: 390 (1.52 KB)\n",
            "_________________________________________________________________\n",
            "Epoch 1/50\n",
            " 21/391 [>.............................] - ETA: 11:59 - loss: 2.8610 - accuracy: 0.1886"
          ]
        }
      ]
    }
  ]
}